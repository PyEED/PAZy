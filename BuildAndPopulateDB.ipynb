{
 "cells": [
  {
   "cell_type": "code",
   "execution_count": 11,
   "metadata": {},
   "outputs": [],
   "source": [
    "try:\n",
    "    from sdRDM import DataModel\n",
    "    from sdRDM.database import build_sql_database\n",
    "    \n",
    "except ModuleNotFoundError:\n",
    "    # Install package if not given\n",
    "    import subprocess\n",
    "    import sys\n",
    "    \n",
    "    subprocess.call([sys.executable, \"-m\", \"pip\", \"install\", \"git+https://github.com/JR-1991/software-driven-rdm.git\"])"
   ]
  },
  {
   "cell_type": "markdown",
   "metadata": {},
   "source": [
    "### Fetching the data model\n",
    "\n",
    "The PyEED data model can be inspected [here](https://github.com/PyEED/pyeed-data-model) which incorporates a [markdown file](https://github.com/PyEED/pyeed-data-model/blob/main/specifications/model.md) that defines the model. By using sdRDM's ```DataModel``` class and ```from_git``` method we can generate the corresponding Python code in-memory and use the model right away. See the printed tree to verify that the code is present."
   ]
  },
  {
   "cell_type": "code",
   "execution_count": 12,
   "metadata": {},
   "outputs": [
    {
     "name": "stdout",
     "output_type": "stream",
     "text": [
      "ProteinSequence\n",
      "├── id\n",
      "├── name\n",
      "├── amino_acid_sequence\n",
      "├── ncbi_id\n",
      "├── uniprot_id\n",
      "├── pdb_id\n",
      "├── organism\n",
      "│   └── Organism\n",
      "│       ├── id\n",
      "│       ├── name\n",
      "│       └── ncbi_taxonomy_id\n",
      "├── substrate\n",
      "├── domain\n",
      "│   └── Domain\n",
      "│       ├── id\n",
      "│       ├── name\n",
      "│       ├── start_position\n",
      "│       └── end_position\n",
      "├── reference_sequence\n",
      "├── equivalence\n",
      "│   └── Equivalence\n",
      "│       ├── id\n",
      "│       ├── reference_position\n",
      "│       └── sequence_position\n",
      "└── annotation\n",
      "    └── Annotation\n",
      "        ├── id\n",
      "        ├── start_position\n",
      "        ├── function\n",
      "        └── end_position\n"
     ]
    }
   ],
   "source": [
    "# pyeed=DataModel.from_markdown('./specifications/model.md')\n",
    "pyeed = DataModel.from_git(\"https://github.com/JR-1991/pyeed-data-model.git\", tag=\"patch-1\")\n",
    "\n",
    "pyeed.ProteinSequence.visualize_tree()"
   ]
  },
  {
   "cell_type": "markdown",
   "metadata": {},
   "source": [
    "### Building the SQL database\n",
    "\n",
    "Next, we are going to use the ```build_sql_database``` function to set up an SQLite database file. This one will be used later on to populate data from our model. The database will construct a table for each object/attribute and thus facilitate an easy transfer from an application to the database."
   ]
  },
  {
   "cell_type": "code",
   "execution_count": 13,
   "metadata": {},
   "outputs": [],
   "source": [
    "build_sql_database(pyeed.ProteinSequence, pyeed.DNASequence, loc=\"./test.db\")"
   ]
  },
  {
   "cell_type": "markdown",
   "metadata": {},
   "source": [
    "### Importing PAZy database\n",
    "\n",
    "Next we are importing the PAZy database from an excel file with all the important information\n"
   ]
  },
  {
   "cell_type": "code",
   "execution_count": 14,
   "metadata": {},
   "outputs": [
    {
     "name": "stdout",
     "output_type": "stream",
     "text": [
      "Requirement already satisfied: openpyxl in /Users/jara1991/opt/anaconda3/envs/softdata/lib/python3.9/site-packages (3.0.10)\n",
      "Requirement already satisfied: et-xmlfile in /Users/jara1991/opt/anaconda3/envs/softdata/lib/python3.9/site-packages (from openpyxl) (1.1.0)\n"
     ]
    },
    {
     "name": "stderr",
     "output_type": "stream",
     "text": [
      "/Users/jara1991/opt/anaconda3/envs/softdata/bin/python: No module named conda\n"
     ]
    }
   ],
   "source": [
    "import subprocess\n",
    "subprocess.call([sys.executable, \"-m\", \"pip\", \"install\", \"openpyxl\"])\n",
    "subprocess.call([sys.executable, \"-m\", \"conda\", \"install\", \"pandas\"])\n",
    "import pandas as pd\n",
    "PAZy = pd.read_excel('./PAZy_DB.xlsx')"
   ]
  },
  {
   "cell_type": "markdown",
   "metadata": {},
   "source": [
    "### Creating a dataset and populating the database\n",
    "\n",
    "In order to demonstrate how to populate the database using our model, we are going to construct a small dataset using the data model we just loaded. \n",
    "\n",
    "Finally, we are going to add the data to our previously created database by using the datasets ```to_sql``` method where we also submit the location of our database file. This will create an Object Relation Model (ORM) that represents the Database structure and map the values present in our dataset to the corresponding tables."
   ]
  },
  {
   "cell_type": "code",
   "execution_count": null,
   "metadata": {},
   "outputs": [],
   "source": [
    "for index, row in PAZy.iterrows():\n",
    "    dataset = pyeed.ProteinSequence(\n",
    "        name=row[\"Enzyme\"],\n",
    "        pdb_id=[row[\"PDB_Accession\"]],\n",
    "        amino_acid_sequence=row[\"Sequence\"],\n",
    "        substrate=[row[\"Substrate\"]],\n",
    "        ncbi_id=row[\"NCBI_Accession\"],\n",
    "        organism=pyeed.Organism(\n",
    "            name=row[\"Microbial host\"],\n",
    "            ncbi_taxonomy_id=row[\"NCBI_Accession\"]\n",
    "        )\n",
    "    )\n",
    "    \n",
    "    dataset.to_sql(loc=\"./test.db\")"
   ]
  },
  {
   "cell_type": "code",
   "execution_count": 7,
   "metadata": {},
   "outputs": [
    {
     "name": "stdout",
     "output_type": "stream",
     "text": [
      "Organism\n",
      "├── id\n",
      "├── name\n",
      "└── ncbi_taxonomy_id\n"
     ]
    }
   ],
   "source": [
    "pyeed.Organism.visualize_tree()"
   ]
  },
  {
   "cell_type": "code",
   "execution_count": null,
   "metadata": {},
   "outputs": [],
   "source": []
  }
 ],
 "metadata": {
  "kernelspec": {
   "display_name": "Python 3.9.12 ('softdata')",
   "language": "python",
   "name": "python3"
  },
  "language_info": {
   "codemirror_mode": {
    "name": "ipython",
    "version": 3
   },
   "file_extension": ".py",
   "mimetype": "text/x-python",
   "name": "python",
   "nbconvert_exporter": "python",
   "pygments_lexer": "ipython3",
   "version": "3.9.12"
  },
  "vscode": {
   "interpreter": {
    "hash": "64346e40b822596ad5b5640b6facc253f2aaad7fbf2d253790b845b65b13e9af"
   }
  }
 },
 "nbformat": 4,
 "nbformat_minor": 4
}
