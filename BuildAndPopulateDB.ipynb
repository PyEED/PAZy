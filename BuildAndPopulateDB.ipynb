{
 "cells": [
  {
   "cell_type": "code",
   "execution_count": 1,
   "metadata": {},
   "outputs": [],
   "source": [
    "try:\n",
    "    from sdRDM import DataModel\n",
    "    from sdRDM.database import build_sql_database\n",
    "    \n",
    "except ModuleNotFoundError:\n",
    "    # Install package if not given\n",
    "    import subprocess\n",
    "    import sys\n",
    "    \n",
    "    subprocess.call([sys.executable, \"-m\", \"pip\", \"install\", \"git+https://github.com/JR-1991/software-driven-rdm.git\"])"
   ]
  },
  {
   "cell_type": "markdown",
   "metadata": {},
   "source": [
    "### Fetching the data model\n",
    "\n",
    "The PyEED data model can be inspected [here](https://github.com/PyEED/pyeed-data-model) which incorporates a [markdown file](https://github.com/PyEED/pyeed-data-model/blob/main/specifications/model.md) that defines the model. By using sdRDM's ```DataModel``` class and ```from_git``` method we can generate the corresponding Python code in-memory and use the model right away. See the printed tree to verify that the code is present."
   ]
  },
  {
   "cell_type": "code",
   "execution_count": 7,
   "metadata": {},
   "outputs": [
    {
     "ename": "KeyError",
     "evalue": "''",
     "output_type": "error",
     "traceback": [
      "\u001b[1;31m---------------------------------------------------------------------------\u001b[0m",
      "\u001b[1;31mKeyError\u001b[0m                                  Traceback (most recent call last)",
      "Cell \u001b[1;32mIn [7], line 2\u001b[0m\n\u001b[0;32m      1\u001b[0m \u001b[39m# pyeed=DataModel.from_markdown('./specifications/model.md')\u001b[39;00m\n\u001b[1;32m----> 2\u001b[0m pyeed \u001b[39m=\u001b[39m DataModel\u001b[39m.\u001b[39mfrom_git(\u001b[39m\"\u001b[39m\u001b[39mhttps://github.com/PyEED/PAZy.git\u001b[39m\u001b[39m\"\u001b[39m)\n\u001b[0;32m      4\u001b[0m pyeed\u001b[39m.\u001b[39mProteinSequence\u001b[39m.\u001b[39mvisualize_tree()\n",
      "File \u001b[1;32m~\\AppData\\Roaming\\Python\\Python310\\site-packages\\sdRDM\\base\\datamodel.py:368\u001b[0m, in \u001b[0;36mDataModel.from_git\u001b[1;34m(cls, url, commit, tag, only_classes)\u001b[0m\n\u001b[0;32m    365\u001b[0m     \u001b[39mraise\u001b[39;00m \u001b[39mValueError\u001b[39;00m(\u001b[39mf\u001b[39m\u001b[39m\"\u001b[39m\u001b[39mGiven URL \u001b[39m\u001b[39m'\u001b[39m\u001b[39m{\u001b[39;00murl\u001b[39m}\u001b[39;00m\u001b[39m'\u001b[39m\u001b[39m is not a valid URL.\u001b[39m\u001b[39m\"\u001b[39m)\n\u001b[0;32m    367\u001b[0m \u001b[39m# Build and import the library\u001b[39;00m\n\u001b[1;32m--> 368\u001b[0m lib, links \u001b[39m=\u001b[39m build_library_from_git_specs(\n\u001b[0;32m    369\u001b[0m     url\u001b[39m=\u001b[39;49murl, commit\u001b[39m=\u001b[39;49mcommit, tag\u001b[39m=\u001b[39;49mtag, only_classes\u001b[39m=\u001b[39;49monly_classes\n\u001b[0;32m    370\u001b[0m )\n\u001b[0;32m    372\u001b[0m \u001b[39mif\u001b[39;00m only_classes:\n\u001b[0;32m    373\u001b[0m     \u001b[39mreturn\u001b[39;00m lib\n",
      "File \u001b[1;32m~\\AppData\\Roaming\\Python\\Python310\\site-packages\\sdRDM\\tools\\gitutils.py:84\u001b[0m, in \u001b[0;36mbuild_library_from_git_specs\u001b[1;34m(url, commit, tag, only_classes)\u001b[0m\n\u001b[0;32m     82\u001b[0m lib_name \u001b[39m=\u001b[39m \u001b[39mf\u001b[39m\u001b[39m\"\u001b[39m\u001b[39msdRDM-Library-\u001b[39m\u001b[39m{\u001b[39;00m\u001b[39mstr\u001b[39m(random\u001b[39m.\u001b[39mrandint(\u001b[39m0\u001b[39m,\u001b[39m30\u001b[39m))\u001b[39m}\u001b[39;00m\u001b[39m\"\u001b[39m\n\u001b[0;32m     83\u001b[0m api_loc \u001b[39m=\u001b[39m os\u001b[39m.\u001b[39mpath\u001b[39m.\u001b[39mjoin(tmpdirname, lib_name)\n\u001b[1;32m---> 84\u001b[0m cls_defs \u001b[39m=\u001b[39m generate_python_api(\n\u001b[0;32m     85\u001b[0m     path\u001b[39m=\u001b[39;49mschema_loc,\n\u001b[0;32m     86\u001b[0m     out\u001b[39m=\u001b[39;49mtmpdirname,\n\u001b[0;32m     87\u001b[0m     name\u001b[39m=\u001b[39;49mlib_name,\n\u001b[0;32m     88\u001b[0m     url\u001b[39m=\u001b[39;49murl,\n\u001b[0;32m     89\u001b[0m     commit\u001b[39m=\u001b[39;49mcommit,\n\u001b[0;32m     90\u001b[0m     only_classes\u001b[39m=\u001b[39;49monly_classes,\n\u001b[0;32m     91\u001b[0m     use_formatter\u001b[39m=\u001b[39;49m\u001b[39mFalse\u001b[39;49;00m,\n\u001b[0;32m     92\u001b[0m )\n\u001b[0;32m     94\u001b[0m \u001b[39mif\u001b[39;00m only_classes:\n\u001b[0;32m     95\u001b[0m     \u001b[39mreturn\u001b[39;00m cls_defs\n",
      "File \u001b[1;32m~\\AppData\\Roaming\\Python\\Python310\\site-packages\\sdRDM\\generator\\codegen.py:79\u001b[0m, in \u001b[0;36mgenerate_python_api\u001b[1;34m(path, out, name, url, commit, only_classes, use_formatter)\u001b[0m\n\u001b[0;32m     74\u001b[0m     mermaid_path, metadata_path \u001b[39m=\u001b[39m generate_schema(\n\u001b[0;32m     75\u001b[0m         \u001b[39mopen\u001b[39m(file, \u001b[39m\"\u001b[39m\u001b[39mr\u001b[39m\u001b[39m\"\u001b[39m), schema_path, format_type\n\u001b[0;32m     76\u001b[0m     )\n\u001b[0;32m     78\u001b[0m     \u001b[39m# Generate the API\u001b[39;00m\n\u001b[1;32m---> 79\u001b[0m     cls_defs \u001b[39m=\u001b[39m write_module(\n\u001b[0;32m     80\u001b[0m         schema\u001b[39m=\u001b[39;49mmermaid_path,\n\u001b[0;32m     81\u001b[0m         descriptions_path\u001b[39m=\u001b[39;49mmetadata_path,\n\u001b[0;32m     82\u001b[0m         out\u001b[39m=\u001b[39;49mcore_path,\n\u001b[0;32m     83\u001b[0m         is_single\u001b[39m=\u001b[39;49mis_single,\n\u001b[0;32m     84\u001b[0m         url\u001b[39m=\u001b[39;49murl,\n\u001b[0;32m     85\u001b[0m         commit\u001b[39m=\u001b[39;49mcommit,\n\u001b[0;32m     86\u001b[0m         only_classes\u001b[39m=\u001b[39;49monly_classes,\n\u001b[0;32m     87\u001b[0m         use_formatter\u001b[39m=\u001b[39;49muse_formatter,\n\u001b[0;32m     88\u001b[0m     )\n\u001b[0;32m     90\u001b[0m \u001b[39mreturn\u001b[39;00m cls_defs\n",
      "File \u001b[1;32m~\\AppData\\Roaming\\Python\\Python310\\site-packages\\sdRDM\\generator\\codegen.py:126\u001b[0m, in \u001b[0;36mwrite_module\u001b[1;34m(schema, descriptions_path, out, use_formatter, is_single, commit, url, only_classes)\u001b[0m\n\u001b[0;32m    123\u001b[0m os\u001b[39m.\u001b[39mmakedirs(path, exist_ok\u001b[39m=\u001b[39m\u001b[39mTrue\u001b[39;00m)\n\u001b[0;32m    125\u001b[0m \u001b[39m# (1) Get class definitions\u001b[39;00m\n\u001b[1;32m--> 126\u001b[0m class_defs \u001b[39m=\u001b[39m _get_class_definitions(schema, descriptions)\n\u001b[0;32m    128\u001b[0m \u001b[39mif\u001b[39;00m only_classes:\n\u001b[0;32m    129\u001b[0m     \u001b[39mreturn\u001b[39;00m class_defs\n",
      "File \u001b[1;32m~\\AppData\\Roaming\\Python\\Python310\\site-packages\\sdRDM\\generator\\codegen.py:172\u001b[0m, in \u001b[0;36m_get_class_definitions\u001b[1;34m(path, descriptions)\u001b[0m\n\u001b[0;32m    170\u001b[0m         cls_def \u001b[39m=\u001b[39m _process_external_object(cls_def, definitions)\n\u001b[0;32m    171\u001b[0m     \u001b[39melse\u001b[39;00m:\n\u001b[1;32m--> 172\u001b[0m         cls_def \u001b[39m=\u001b[39m MermaidClass\u001b[39m.\u001b[39;49mparse(cls_def, descriptions)\n\u001b[0;32m    174\u001b[0m     definitions[cls_def\u001b[39m.\u001b[39mname] \u001b[39m=\u001b[39m cls_def\n\u001b[0;32m    176\u001b[0m \u001b[39mreturn\u001b[39;00m definitions\n",
      "File \u001b[1;32m~\\AppData\\Roaming\\Python\\Python310\\site-packages\\sdRDM\\generator\\mermaidclass.py:430\u001b[0m, in \u001b[0;36mMermaidClass.parse\u001b[1;34m(cls, mermaid_cls, module_meta)\u001b[0m\n\u001b[0;32m    426\u001b[0m attributes \u001b[39m=\u001b[39m {}\n\u001b[0;32m    428\u001b[0m \u001b[39mfor\u001b[39;00m dtype, multiple, attr_name, required \u001b[39min\u001b[39;00m raw_attrs:\n\u001b[0;32m    429\u001b[0m     \u001b[39m# TODO add special Type mapping\u001b[39;00m\n\u001b[1;32m--> 430\u001b[0m     attr_metadata \u001b[39m=\u001b[39m descriptions[\u001b[39m\"\u001b[39;49m\u001b[39mattributes\u001b[39;49m\u001b[39m\"\u001b[39;49m][attr_name]\n\u001b[0;32m    432\u001b[0m     \u001b[39mcls\u001b[39m\u001b[39m.\u001b[39m_process_attr_metadata(attr_metadata, objects)\n\u001b[0;32m    434\u001b[0m     attr_dict \u001b[39m=\u001b[39m {\n\u001b[0;32m    435\u001b[0m         \u001b[39m\"\u001b[39m\u001b[39mdtype\u001b[39m\u001b[39m\"\u001b[39m: dtype,\n\u001b[0;32m    436\u001b[0m         \u001b[39m\"\u001b[39m\u001b[39mmultiple\u001b[39m\u001b[39m\"\u001b[39m: \u001b[39mbool\u001b[39m(multiple),\n\u001b[0;32m    437\u001b[0m         \u001b[39m\"\u001b[39m\u001b[39mrequired\u001b[39m\u001b[39m\"\u001b[39m: \u001b[39mbool\u001b[39m(required),\n\u001b[0;32m    438\u001b[0m         \u001b[39m*\u001b[39m\u001b[39m*\u001b[39mattr_metadata,\n\u001b[0;32m    439\u001b[0m     }\n",
      "\u001b[1;31mKeyError\u001b[0m: ''"
     ]
    }
   ],
   "source": [
    "# pyeed=DataModel.from_markdown('./specifications/model.md')\n",
    "pyeed = DataModel.from_git(\"https://github.com/PyEED/PAZy.git\")\n",
    "\n",
    "pyeed.ProteinSequence.visualize_tree()"
   ]
  },
  {
   "cell_type": "markdown",
   "metadata": {},
   "source": [
    "### Building the SQL database\n",
    "\n",
    "Next, we are going to use the ```build_sql_database``` function to set up an SQLite database file. This one will be used later on to populate data from our model. The database will construct a table for each object/attribute and thus facilitate an easy transfer from an application to the database."
   ]
  },
  {
   "cell_type": "code",
   "execution_count": 6,
   "metadata": {},
   "outputs": [],
   "source": [
    "build_sql_database(pyeed.ProteinSequence, pyeed.DNASequence, loc=\"./test.db\")"
   ]
  },
  {
   "cell_type": "markdown",
   "metadata": {},
   "source": [
    "### Importing PAZy database\n",
    "\n",
    "Next we are importing the PAZy database from an excel file with all the important information\n"
   ]
  },
  {
   "cell_type": "code",
   "execution_count": 7,
   "metadata": {},
   "outputs": [],
   "source": [
    "import subprocess\n",
    "subprocess.call([sys.executable, \"-m\", \"pip\", \"install\", \"openpyxl\"])\n",
    "subprocess.call([sys.executable, \"-m\", \"conda\", \"install\", \"pandas\"])\n",
    "import pandas as pd\n",
    "PAZy = pd.read_excel('./PAZy_DB.xlsx')\n",
    "PAZy_ref = pd.read_excel('./PAZy_DB.xlsx', sheet_name = 'Table3')\n"
   ]
  },
  {
   "cell_type": "markdown",
   "metadata": {},
   "source": [
    "### Creating a dataset and populating the database\n",
    "\n",
    "In order to demonstrate how to populate the database using our model, we are going to construct a small dataset using the data model we just loaded. \n",
    "\n",
    "Finally, we are going to add the data to our previously created database by using the datasets ```to_sql``` method where we also submit the location of our database file. This will create an Object Relation Model (ORM) that represents the Database structure and map the values present in our dataset to the corresponding tables."
   ]
  },
  {
   "cell_type": "code",
   "execution_count": 8,
   "metadata": {},
   "outputs": [],
   "source": [
    "for index, row in PAZy.iterrows():\n",
    "    dataset = pyeed.ProteinSequence(\n",
    "        name=row[\"Enzyme\"],\n",
    "        pdb_id=[row[\"PDB_Accession\"]],\n",
    "        amino_acid_sequence=row[\"Sequence\"],\n",
    "        substrate=[row[\"Substrate\"]],\n",
    "        ncbi_id=row[\"NCBI_Accession\"],\n",
    "        # organism=pyeed.Organism(\n",
    "        #     name=row[\"Microbial host\"],\n",
    "        #     ncbi_taxonomy_id=row[\"NCBI_Accession\"]\n",
    "        # )\n",
    "    )\n",
    "    # for index_2, row_2 in PAZy_ref.iterrows():\n",
    "    #     if PAZy_ref.loc[PAZy_ref['Enzyme_ID'] == dataset.id]:\n",
    "    #         dataset.add_to_reference(###)\n",
    "\n",
    "               \n",
    "    dataset.to_sql(loc=\"./test.db\")"
   ]
  },
  {
   "cell_type": "code",
   "execution_count": 6,
   "metadata": {},
   "outputs": [
    {
     "name": "stdout",
     "output_type": "stream",
     "text": [
      "Organism\n",
      "├── id\n",
      "├── name\n",
      "└── ncbi_taxonomy_id\n"
     ]
    }
   ],
   "source": [
    "pyeed.Organism.visualize_tree()"
   ]
  },
  {
   "cell_type": "code",
   "execution_count": null,
   "metadata": {},
   "outputs": [],
   "source": []
  },
  {
   "cell_type": "code",
   "execution_count": null,
   "metadata": {},
   "outputs": [],
   "source": []
  }
 ],
 "metadata": {
  "kernelspec": {
   "display_name": "PAZy",
   "language": "python",
   "name": "python3"
  },
  "language_info": {
   "codemirror_mode": {
    "name": "ipython",
    "version": 3
   },
   "file_extension": ".py",
   "mimetype": "text/x-python",
   "name": "python",
   "nbconvert_exporter": "python",
   "pygments_lexer": "ipython3",
   "version": "3.10.8"
  },
  "vscode": {
   "interpreter": {
    "hash": "f5cfcf1015400151acdbb7aeec66e38087f42ae866ad764bbeb583075d233418"
   }
  }
 },
 "nbformat": 4,
 "nbformat_minor": 4
}
